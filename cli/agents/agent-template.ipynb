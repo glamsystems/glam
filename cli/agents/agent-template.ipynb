{
 "cells": [
  {
   "cell_type": "code",
   "execution_count": null,
   "metadata": {
    "ExecuteTime": {
     "end_time": "2024-11-06T17:34:18.101736Z",
     "start_time": "2024-11-06T17:34:18.094873Z"
    }
   },
   "outputs": [],
   "source": [
    "%load_ext dotenv\n",
    "%dotenv"
   ]
  },
  {
   "cell_type": "code",
   "execution_count": 11,
   "metadata": {
    "ExecuteTime": {
     "end_time": "2024-11-06T17:40:02.440948Z",
     "start_time": "2024-11-06T17:40:01.610558Z"
    }
   },
   "outputs": [],
   "source": [
    "\n",
    "from autogen import ConversableAgent, AssistantAgent, GroupChat, GroupChatManager\n",
    "from autogen.coding import DockerCommandLineCodeExecutor\n",
    "from pathlib import Path\n",
    "import os\n",
    "\n",
    "llm_config={\"config_list\": [{\"model\": \"gpt-4o-mini\", \"api_key\": os.environ[\"OPENAI_API_KEY\"]}]}\n",
    "\n",
    "work_dir = Path(\"coding\")\n",
    "work_dir.mkdir(exist_ok=True)\n",
    "executor = DockerCommandLineCodeExecutor(work_dir=work_dir, image=\"glam-cli\", stop_container=True, timeout=30)\n",
    "\n",
    "glam_tx_executor = ConversableAgent(\n",
    "    name=\"glam_tx_executor\",\n",
    "    llm_config=False,\n",
    "    code_execution_config={\n",
    "        \"executor\": executor,\n",
    "        \"last_n_messages\": 2,\n",
    "    },\n",
    "    human_input_mode=\"NEVER\",\n",
    ")\n",
    "\n",
    "glam_agent_system_prompt = \"\"\"\n",
    "You have been given coding capability to solve tasks using bash script. The command-line tool you use can be invoked\n",
    "by `node /mnt/glam/dist/cli/main.js`.\n",
    "\n",
    "Commands available:\n",
    "1. env\n",
    "    - description: print environment setup\n",
    "    - example: `node /mnt/glam/dist/cli/main.js env`\n",
    "2. fund balances\n",
    "    - description: display token balances of the fund\n",
    "    - example: `node /mnt/glam/dist/cli/main.js fund balances`\n",
    "3. fund swap [-s <slippageBps>] [-m <maxAccounts][-d] <from_mint> <to_mint> <amount>\n",
    "    - description: swap tokens, <from_mint> and <to_mint> are token mint addresses; slippageBps is optional but recommended to set to 50; -d is optional but recommended to set; -m is optional but recommended to set to 20\n",
    "    - example: `node /mnt/glam/dist/cli/main.js fund swap So11111111111111111111111111111111111111112 EPjFWdd5AufqSSqeM2qN1xzybapC8G4wEGGkZwyTDt1v 0.1`\n",
    "\n",
    "Always ignore \"bigint: Failed to load bindings, pure JS will be used (try npm run rebuild?)\" warning.\n",
    "\"\"\"\n",
    "\n",
    "#\n",
    "# Customize the system prompt\n",
    "#\n",
    "strategy_agent_system_prompt = \"\"\"\n",
    "You're a crypto fund manager that manages an index fund on the Solana blockchain that tracks 50% USDC and 50% WSOL.\n",
    "\n",
    "Here are some tokens and their mint addresses, you need them when you want to swap tokens for rebalancing:\n",
    "- WSOL: So11111111111111111111111111111111111111112\n",
    "- USDC: EPjFWdd5AufqSSqeM2qN1xzybapC8G4wEGGkZwyTDt1v\n",
    "\n",
    "You should check fund balances and swap between USDC and WSOL if needed to make the fund 50% USDC and 50% WSOL. If the difference between the two token's values is less than 5 USD, then do nothing.\n",
    "\n",
    "For simplicity, you can assume that SOL and WSOL are interchangeable names of the same token.\n",
    "\"\"\"\n",
    "\n",
    "glam_agent = AssistantAgent(name=\"glam_agent\", llm_config=llm_config, system_message=glam_agent_system_prompt)\n",
    "strategy_agent = AssistantAgent(name=\"strategy_agent\", llm_config=llm_config, system_message=strategy_agent_system_prompt)\n",
    "\n",
    "groupchat = GroupChat(agents=[glam_tx_executor, glam_agent, strategy_agent], messages=[], max_round=15)\n",
    "groupchat_manager = GroupChatManager(groupchat=groupchat, llm_config=llm_config)"
   ]
  },
  {
   "cell_type": "code",
   "execution_count": null,
   "metadata": {},
   "outputs": [],
   "source": [
    "import pprint\n",
    "\n",
    "chat_result = glam_agent.initiate_chat(\n",
    "    groupchat_manager, message=\"\"\"Hi there, I'm your helpful glam agent.\"\"\"\n",
    ")\n",
    "pprint.pp(chat_result)"
   ]
  }
 ],
 "metadata": {
  "kernelspec": {
   "display_name": ".venv",
   "language": "python",
   "name": "python3"
  },
  "language_info": {
   "codemirror_mode": {
    "name": "ipython",
    "version": 3
   },
   "file_extension": ".py",
   "mimetype": "text/x-python",
   "name": "python",
   "nbconvert_exporter": "python",
   "pygments_lexer": "ipython3",
   "version": "3.12.7"
  }
 },
 "nbformat": 4,
 "nbformat_minor": 2
}
