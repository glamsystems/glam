{
 "cells": [
  {
   "cell_type": "code",
   "execution_count": 1,
   "metadata": {
    "ExecuteTime": {
     "end_time": "2024-11-06T17:34:18.101736Z",
     "start_time": "2024-11-06T17:34:18.094873Z"
    }
   },
   "outputs": [],
   "source": [
    "%load_ext dotenv\n",
    "%dotenv"
   ]
  },
  {
   "cell_type": "code",
   "execution_count": 6,
   "metadata": {
    "ExecuteTime": {
     "end_time": "2024-11-06T17:40:02.440948Z",
     "start_time": "2024-11-06T17:40:01.610558Z"
    }
   },
   "outputs": [],
   "source": [
    "\n",
    "from autogen import ConversableAgent, AssistantAgent, GroupChat, GroupChatManager\n",
    "\n",
    "from demo.utils import custom_print_received_message\n",
    "from demo.utils import llm_config\n",
    "from demo.glam import initialize_glam_agents\n",
    "\n",
    "#\n",
    "# Customize the system prompt\n",
    "#\n",
    "strategy_agent_system_prompt = \"\"\"\n",
    "You're a crypto fund manager that manages an index fund on the Solana blockchain that tracks 50% USDC and 50% WSOL.\n",
    "\n",
    "Here are some tokens and their mint addresses, you need them when you want to swap tokens for rebalancing:\n",
    "- WSOL: So11111111111111111111111111111111111111112\n",
    "- USDC: EPjFWdd5AufqSSqeM2qN1xzybapC8G4wEGGkZwyTDt1v\n",
    "\n",
    "You should check fund balances and swap between USDC and WSOL if needed to make the fund 50% USDC and 50% WSOL. If the difference between the two token's values is less than 5 USD, then do nothing.\n",
    "\n",
    "For simplicity, you can assume that SOL and WSOL are interchangeable names of the same token.\n",
    "\"\"\"\n",
    "strategy_agent = AssistantAgent(name=\"strategy_agent\", llm_config=llm_config, system_message=strategy_agent_system_prompt)\n",
    "\n",
    "glam_agents = initialize_glam_agents(llm_config)\n",
    "\n",
    "groupchat = GroupChat(agents=[glam_agents[0], glam_agents[1], strategy_agent], messages=[], max_round=15)\n",
    "groupchat_manager = GroupChatManager(groupchat=groupchat, llm_config=llm_config)"
   ]
  },
  {
   "cell_type": "code",
   "execution_count": null,
   "metadata": {},
   "outputs": [],
   "source": [
    "chat_result = strategy_agent.initiate_chat(\n",
    "    groupchat_manager, message=\"\"\"Hi there!\"\"\"\n",
    ")"
   ]
  }
 ],
 "metadata": {
  "kernelspec": {
   "display_name": ".venv",
   "language": "python",
   "name": "python3"
  },
  "language_info": {
   "codemirror_mode": {
    "name": "ipython",
    "version": 3
   },
   "file_extension": ".py",
   "mimetype": "text/x-python",
   "name": "python",
   "nbconvert_exporter": "python",
   "pygments_lexer": "ipython3",
   "version": "3.12.7"
  }
 },
 "nbformat": 4,
 "nbformat_minor": 2
}
