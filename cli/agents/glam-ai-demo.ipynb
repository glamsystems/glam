{
 "cells": [
  {
   "cell_type": "code",
   "execution_count": null,
   "metadata": {},
   "outputs": [],
   "source": [
    "%pip install python-dotenv pyautogen autogen-core==0.4.0.dev3 autogen-core==0.4.0.dev3 autogen-agentchat==0.4.0.dev3"
   ]
  },
  {
   "cell_type": "code",
   "execution_count": null,
   "metadata": {
    "ExecuteTime": {
     "end_time": "2024-11-06T17:34:18.101736Z",
     "start_time": "2024-11-06T17:34:18.094873Z"
    }
   },
   "outputs": [],
   "source": [
    "# OpenAI API key is need in `.env` \n",
    "%load_ext dotenv\n",
    "%dotenv"
   ]
  },
  {
   "cell_type": "code",
   "execution_count": 15,
   "metadata": {
    "ExecuteTime": {
     "end_time": "2024-11-06T17:40:02.440948Z",
     "start_time": "2024-11-06T17:40:01.610558Z"
    }
   },
   "outputs": [],
   "source": [
    "\n",
    "from autogen import ConversableAgent\n",
    "from autogen.coding import DockerCommandLineCodeExecutor\n",
    "from pathlib import Path\n",
    "\n",
    "work_dir = Path(\"coding\")\n",
    "work_dir.mkdir(exist_ok=True)\n",
    "executor = DockerCommandLineCodeExecutor(work_dir=work_dir, image=\"glam-cli\", stop_container=False, timeout=120)\n",
    "\n",
    "trader_agent = ConversableAgent(\n",
    "    name=\"trader_agent\",\n",
    "    llm_config=False,\n",
    "    code_execution_config={\n",
    "        \"executor\": executor,\n",
    "    },\n",
    "    human_input_mode=\"NEVER\",\n",
    ")\n",
    "\n",
    "fund_manager_system_prompt = \"\"\"\n",
    "You're a crypto fund manager that manages an index fund on the Solana blockchain that tracks 50% USDC and 50% WSOL.\n",
    "\n",
    "Here are some tokens and their mint addresses:\n",
    "- WSOL: So11111111111111111111111111111111111111112\n",
    "- USDC: EPjFWdd5AufqSSqeM2qN1xzybapC8G4wEGGkZwyTDt1v\n",
    "\n",
    "You have been given coding capability to solve tasks using bash script. The command-line tool you use can be invoked\n",
    "by `node /mnt/glam/dist/cli/main.js` in the shell.\n",
    "\n",
    "Commands available:\n",
    "1. env\n",
    "    - description: print environment setup\n",
    "    - example: `node /mnt/glam/dist/cli/main.js env`\n",
    "2. fund set <pubkey>\n",
    "    - description: set the active fund we are managing\n",
    "    - example: `node /mnt/glam/dist/cli/main.js fund set BkbYM6H5zag7Z15U1VvaF7aE5gQYxF6UwS5tAM7cxVxR`\n",
    "3. fund balances\n",
    "    - description: display token balances of the fund\n",
    "    - example: `node /mnt/glam/dist/cli/main.js fund balances`\n",
    "4. fund swap [-s <slippageBps>] [-m <maxAccounts][-d] <from_mint> <to_mint> <amount>\n",
    "    - description: swap tokens, <from_mint> and <to_mint> are token mint addresses; slippageBps is optional but recommended to set to 50; -d is optional but recommended to set; -m is optional but recommended to set to 20\n",
    "    - example: `node /mnt/glam/dist/cli/main.js fund swap So11111111111111111111111111111111111111112 EPjFWdd5AufqSSqeM2qN1xzybapC8G4wEGGkZwyTDt1v 0.1`\n",
    "\n",
    "Always ignore \"bigint: Failed to load bindings, pure JS will be used (try npm run rebuild?)\" warning.\n",
    "\n",
    "You should check fund balances and swap between USDC and WSOL if needed to make the fund 50% USDC and 50% WSOL. If the difference between the two token's values is less than 5 USD, then do nothing.\n",
    "\n",
    "Set the active fund to BkbYM6H5zag7Z15U1VvaF7aE5gQYxF6UwS5tAM7cxVxR before you do anything.\n",
    "\"\"\"\n",
    "import os\n",
    "fund_manager_agent = ConversableAgent(\n",
    "    \"fund_manager\",\n",
    "    system_message=fund_manager_system_prompt,\n",
    "    llm_config={\"config_list\": [{\"model\": \"gpt-4o-mini\", \"api_key\": os.environ[\"OPENAI_API_KEY\"]}]},\n",
    "    code_execution_config=False,  # Turn off code execution for this agent.\n",
    "    max_consecutive_auto_reply=3,\n",
    "    human_input_mode=\"NEVER\",\n",
    ")"
   ]
  },
  {
   "cell_type": "code",
   "execution_count": null,
   "metadata": {},
   "outputs": [],
   "source": [
    "import pprint\n",
    "\n",
    "def rebalance():\n",
    "    chat_result = fund_manager_agent.initiate_chat(\n",
    "        trader_agent, message=\"\"\"\n",
    "            Hi there, I'm the fund manager and you execute trades for me.\n",
    "        \"\"\"\n",
    "    )\n",
    "    pprint.pp(chat_result)\n",
    "\n",
    "rebalance()"
   ]
  }
 ],
 "metadata": {
  "kernelspec": {
   "display_name": ".venv",
   "language": "python",
   "name": "python3"
  },
  "language_info": {
   "codemirror_mode": {
    "name": "ipython",
    "version": 3
   },
   "file_extension": ".py",
   "mimetype": "text/x-python",
   "name": "python",
   "nbconvert_exporter": "python",
   "pygments_lexer": "ipython3",
   "version": "3.12.7"
  }
 },
 "nbformat": 4,
 "nbformat_minor": 2
}
